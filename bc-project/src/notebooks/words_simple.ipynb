{
 "cells": [
  {
   "cell_type": "markdown",
   "id": "6634099e-d25b-40f3-9bea-397e5cd36ba8",
   "metadata": {},
   "source": [
    "# Generating a list of words that represents an hexadecimal string"
   ]
  },
  {
   "cell_type": "markdown",
   "id": "dbc72ac7-c411-48d7-9126-42249ddb9888",
   "metadata": {},
   "source": [
    "## Random hexadecimal string\n",
    "First we create a random hexadecimal string, and store it in \"private_key\" variable"
   ]
  },
  {
   "cell_type": "code",
   "execution_count": 1,
   "id": "bb5ad33e-63b6-4218-add5-bdea5993a9d8",
   "metadata": {
    "tags": []
   },
   "outputs": [
    {
     "name": "stdout",
     "output_type": "stream",
     "text": [
      "09e8bb3529506dccc8b0a70cbac76b78c37792de9e1a948c7da0290632b62ced\n"
     ]
    }
   ],
   "source": [
    "# Generate random hexadecimal string\n",
    "import random\n",
    "total_bits=256\n",
    "bit_per_char=16\n",
    "private_key = \"\".join(random.choice(\"0123456789abcdef\") for _ in range(4*256//16))\n",
    "print(private_key)"
   ]
  },
  {
   "cell_type": "markdown",
   "id": "a57e6a87-2c4f-4f02-b1a6-832aaf0671fc",
   "metadata": {},
   "source": [
    "## Mnemonic representation function\n",
    "We create a function that takes a list of words and represents the hexadecimal number using the list.\n",
    "The list must have a length that is a power of 2: 2, 4, 8, 16, 32, 65.., "
   ]
  },
  {
   "cell_type": "code",
   "execution_count": 2,
   "id": "e70bf37a-3b94-43b6-8071-633813599d8a",
   "metadata": {
    "tags": []
   },
   "outputs": [
    {
     "name": "stdout",
     "output_type": "stream",
     "text": [
      "apple carrot date cat elderberry carrot dog date banana fig carrot carrot elderberry fig carrot apple date date date elderberry cat date banana apple fig elderberry banana carrot date elderberry banana elderberry fig cat fig elderberry date fig fig date date cat banana elderberry banana fig cat dog elderberry elderberry fig fig dog carrot date cat apple cat fig banana carrot carrot banana elderberry date dog date carrot apple apple fig banana apple banana elderberry date banana carrot cat cat banana date banana cat cat banana\n",
      "Source word list length: 8\n",
      "Number of words in the mnemonic: 531\n"
     ]
    }
   ],
   "source": [
    "# Import binascii for hex to bytes conversion\n",
    "import binascii\n",
    "import math\n",
    "\n",
    "# Define a function that takes a hexadecimal string and a wordlist as input and returns a mnemonic sentence without checksum as output\n",
    "def hex_to_mnemonic_no_checksum(hex_string, wordlist, separator=\" \"):\n",
    "    # Convert the hex string to bytes\n",
    "    data = binascii.unhexlify(hex_string)\n",
    "    # Convert the data to binary string\n",
    "    # We use zfill so each byte is filled with zeroes if it's less than 8 bits\n",
    "    data_bits = bin(int.from_bytes(data, \"big\"))[2:].zfill(len(data) * 8)\n",
    "    # Split the bits into groups of log2(wordlist_size) and convert each group to an index in the wordlist\n",
    "    words = []\n",
    "    group_size = int(math.log2(len(wordlist)))\n",
    "    for i in range(0, len(data_bits), group_size):\n",
    "        index = int(data_bits[i:i+group_size], 2)\n",
    "        word = wordlist[index]\n",
    "        words.append(word)\n",
    "    # Join the words with spaces and return the mnemonic sentence\n",
    "    mnemonic = separator.join(words)\n",
    "    return mnemonic\n",
    "\n",
    "# Define a wordlist of any power of 2 size\n",
    "wordlist = [\"apple\", \"banana\", \"carrot\", \"date\", \"elderberry\", \"fig\", \"cat\", \"dog\"]\n",
    "# Test with an example hex string of 128 bits (16 bytes) and \n",
    "mnemonic = hex_to_mnemonic_no_checksum(private_key, wordlist)\n",
    "print(mnemonic)\n",
    "# Show length of source word list, and the number of words that must be used in the mnemonic\n",
    "print(\"Source word list length: \" + str(len(wordlist)))\n",
    "print(\"Number of words in the mnemonic: \"+ str(len(mnemonic)))"
   ]
  },
  {
   "cell_type": "markdown",
   "id": "ddaa879b-1227-46df-831a-060951bd527f",
   "metadata": {},
   "source": [
    "## Using 0-9, a-f\n",
    "When we use characters 0-9 and a-f as the source list, we should get exactly the same original hexadecimal representation"
   ]
  },
  {
   "cell_type": "code",
   "execution_count": 3,
   "id": "93cda04b-0296-49b2-a1ba-2da98e1b5978",
   "metadata": {
    "tags": []
   },
   "outputs": [
    {
     "name": "stdout",
     "output_type": "stream",
     "text": [
      "09e8bb3529506dccc8b0a70cbac76b78c37792de9e1a948c7da0290632b62ced\n",
      "Source word list length: 16\n",
      "Number of words in the mnemonic: 64\n"
     ]
    }
   ],
   "source": [
    "wordlist = [\"0\",\"1\", \"2\",\"3\",\"4\",\"5\",\"6\",\"7\",\"8\",\"9\",\"a\",\"b\",\"c\",\"d\",\"e\",\"f\"]\n",
    "mnemonic = hex_to_mnemonic_no_checksum(private_key, wordlist, \"\")\n",
    "print(mnemonic)\n",
    "print(\"Source word list length: \" + str(len(wordlist)))\n",
    "print(\"Number of words in the mnemonic: \"+ str(len(mnemonic)))"
   ]
  },
  {
   "cell_type": "markdown",
   "id": "5553a104-77e7-4de9-a506-fdbddc25b8a8",
   "metadata": {},
   "source": [
    "## Using 0-1\n",
    "We repeat the same just with \"0\" and \"1\", and we would get the binary representation of the number"
   ]
  },
  {
   "cell_type": "code",
   "execution_count": 4,
   "id": "03c47e43-32e2-4c10-acc4-9811fe0978c6",
   "metadata": {
    "tags": []
   },
   "outputs": [
    {
     "name": "stdout",
     "output_type": "stream",
     "text": [
      "0000100111101000101110110011010100101001010100000110110111001100110010001011000010100111000011001011101011000111011010110111100011000011011101111001001011011110100111100001101010010100100011000111110110100000001010010000011000110010101101100010110011101101\n",
      "Source word list length: 2\n",
      "Number of words in the mnemonic: 256\n"
     ]
    }
   ],
   "source": [
    "wordlist = [\"0\",\"1\"]\n",
    "mnemonic = hex_to_mnemonic_no_checksum(private_key, wordlist, \"\")\n",
    "print(mnemonic)\n",
    "print(\"Source word list length: \" + str(len(wordlist)))\n",
    "print(\"Number of words in the mnemonic: \"+ str(len(mnemonic)))"
   ]
  },
  {
   "cell_type": "markdown",
   "id": "d5d3d8b0-d4d3-420b-9308-f78482015c6b",
   "metadata": {},
   "source": [
    "## Using Bitcoin BIP39 list of 2048 source mnemonic words\n",
    "We can use the BIP39 list of 2048 words used for mnemonics of Bitcoin wallets"
   ]
  },
  {
   "cell_type": "code",
   "execution_count": 5,
   "id": "31ab79be-015a-4699-bbd9-6542c9c86972",
   "metadata": {
    "tags": []
   },
   "outputs": [
    {
     "name": "stdout",
     "output_type": "stream",
     "text": [
      "antique easy snap famous almost toy carpet belt arrow stomach suspect various danger siren kidney select nest glue gym faith glimpse force recipe absent\n",
      "Source word list length: 2048\n",
      "Number of words in the mnemonic: 24\n"
     ]
    }
   ],
   "source": [
    "import requests\n",
    "wordlist_url = \"https://raw.githubusercontent.com/bitcoin/bips/master/bip-0039/english.txt\"\n",
    "wordlist = requests.get(wordlist_url).text.split()\n",
    "mnemonic = hex_to_mnemonic_no_checksum(private_key, wordlist, \" \")\n",
    "print(mnemonic)\n",
    "print(\"Source word list length: \" + str(len(wordlist)))\n",
    "print(\"Number of words in the mnemonic: \"+ str(mnemonic.count(\" \")+1))"
   ]
  },
  {
   "cell_type": "markdown",
   "id": "92972eeb-e1dd-43a5-bf8b-23909c23f776",
   "metadata": {},
   "source": [
    "## Final example including a checksum\n",
    "On the real BIP39 representation, each"
   ]
  },
  {
   "cell_type": "code",
   "execution_count": 7,
   "id": "d72a3625-90f8-4bfc-a3b3-9300788f57a2",
   "metadata": {
    "tags": []
   },
   "outputs": [
    {
     "name": "stdout",
     "output_type": "stream",
     "text": [
      "panel cause ribbon silent tennis can giant cable faith zero end exercise twelve hockey electric spoon chef dilemma table rent bunker similar service sight\n"
     ]
    }
   ],
   "source": [
    "# Import libraries\n",
    "import secrets\n",
    "import hashlib\n",
    "\n",
    "# Define constants\n",
    "WORDLIST = \"https://raw.githubusercontent.com/bitcoin/bips/master/bip-0039/english.txt\" # URL of BIP-39 wordlist\n",
    "ENTROPY_BITS = 256 # Number of bits of entropy\n",
    "CHECKSUM_BITS = ENTROPY_BITS // 32 # Number of bits of checksum\n",
    "\n",
    "# Download wordlist\n",
    "import requests\n",
    "response = requests.get(WORDLIST)\n",
    "words = response.text.split()\n",
    "\n",
    "# Generate random entropy\n",
    "entropy = secrets.token_bytes(ENTROPY_BITS // 8)\n",
    "\n",
    "# Compute checksum\n",
    "checksum = hashlib.sha256(entropy).digest()[0]\n",
    "\n",
    "# Convert entropy and checksum to binary string\n",
    "binary = bin(int.from_bytes(entropy, \"big\"))[2:].zfill(ENTROPY_BITS) + bin(checksum)[2:].zfill(CHECKSUM_BITS)\n",
    "\n",
    "# Split binary string into groups of 11 bits\n",
    "groups = [binary[i:i+11] for i in range(0, len(binary), 11)]\n",
    "\n",
    "# Convert each group to an index and look up the corresponding word\n",
    "mnemonic = [words[int(g, 2)] for g in groups]\n",
    "\n",
    "# Join the words with spaces\n",
    "mnemonic = \" \".join(mnemonic)\n",
    "\n",
    "# Print the mnemonic phrase\n",
    "print(mnemonic)"
   ]
  },
  {
   "cell_type": "code",
   "execution_count": null,
   "id": "2ae658fe-c427-4d2d-854b-c0a2a7b3e87e",
   "metadata": {},
   "outputs": [],
   "source": []
  }
 ],
 "metadata": {
  "kernelspec": {
   "display_name": "Python 3 (ipykernel)",
   "language": "python",
   "name": "python3"
  },
  "language_info": {
   "codemirror_mode": {
    "name": "ipython",
    "version": 3
   },
   "file_extension": ".py",
   "mimetype": "text/x-python",
   "name": "python",
   "nbconvert_exporter": "python",
   "pygments_lexer": "ipython3",
   "version": "3.9.2"
  }
 },
 "nbformat": 4,
 "nbformat_minor": 5
}
